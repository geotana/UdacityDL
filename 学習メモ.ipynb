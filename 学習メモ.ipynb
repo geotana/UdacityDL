{
  "nbformat": 4,
  "nbformat_minor": 0,
  "metadata": {
    "colab": {
      "name": "学習メモ.ipynb",
      "version": "0.3.2",
      "provenance": [],
      "collapsed_sections": [],
      "include_colab_link": true
    },
    "kernelspec": {
      "name": "python3",
      "display_name": "Python 3"
    }
  },
  "cells": [
    {
      "cell_type": "markdown",
      "metadata": {
        "id": "view-in-github",
        "colab_type": "text"
      },
      "source": [
        "[View in Colaboratory](https://colab.research.google.com/github/geotana/UdacityDL/blob/master/%E5%AD%A6%E7%BF%92%E3%83%A1%E3%83%A2.ipynb)"
      ]
    },
    {
      "metadata": {
        "id": "senQyYnjq6WN",
        "colab_type": "code",
        "colab": {
          "base_uri": "https://localhost:8080/",
          "height": 118
        },
        "outputId": "74ef3ed8-0190-4dc8-c713-976b8276d315"
      },
      "cell_type": "code",
      "source": [
        "import numpy as np\n",
        "target_vector = [0,2,1,3,4,0]               # クラス分類を整数値のベクトルで表現したもの\n",
        "n_labels = len(target_vector)  # 分類クラスの数 = 5\n",
        "# n_labels = len(np.unique(target_vector))  # 分類クラスの数 = 5\n",
        "np.eye(n_labels)[target_vector]  "
      ],
      "execution_count": 3,
      "outputs": [
        {
          "output_type": "execute_result",
          "data": {
            "text/plain": [
              "array([[1., 0., 0., 0., 0., 0.],\n",
              "       [0., 0., 1., 0., 0., 0.],\n",
              "       [0., 1., 0., 0., 0., 0.],\n",
              "       [0., 0., 0., 1., 0., 0.],\n",
              "       [0., 0., 0., 0., 1., 0.],\n",
              "       [1., 0., 0., 0., 0., 0.]])"
            ]
          },
          "metadata": {
            "tags": []
          },
          "execution_count": 3
        }
      ]
    },
    {
      "metadata": {
        "id": "QBBUA9vPY_6l",
        "colab_type": "code",
        "colab": {
          "base_uri": "https://localhost:8080/",
          "height": 188
        },
        "outputId": "3563a08f-3e6c-4a39-8857-26e8dcd041b8"
      },
      "cell_type": "code",
      "source": [
        "import tensorflow as tf\n",
        "\n",
        "labels = tf.placeholder(tf.int64, [None])\n",
        "y_ = tf.one_hot(labels, depth=3, dtype=tf.float32)\n",
        "z0_ = tf.argmax(y_,0)  \n",
        "z1_ = tf.argmax(y_,1)  \n",
        "\n",
        "with tf.Session() as sess:\n",
        "  sess.run(tf.initialize_all_variables())\n",
        "  teacher = [1, 2, 0, 2]\n",
        "  out= sess .run(y_, feed_dict={labels: teacher})\n",
        "  print(out)\n",
        "  out = sess.run(z0_, feed_dict={labels: teacher})\n",
        "  print(out)\n",
        "  out = sess.run(z1_, feed_dict={labels: teacher})\n",
        "  print(out)\n",
        "  "
      ],
      "execution_count": 1,
      "outputs": [
        {
          "output_type": "stream",
          "text": [
            "WARNING:tensorflow:From /usr/local/lib/python3.6/dist-packages/tensorflow/python/util/tf_should_use.py:118: initialize_all_variables (from tensorflow.python.ops.variables) is deprecated and will be removed after 2017-03-02.\n",
            "Instructions for updating:\n",
            "Use `tf.global_variables_initializer` instead.\n",
            "[[0. 1. 0.]\n",
            " [0. 0. 1.]\n",
            " [1. 0. 0.]\n",
            " [0. 0. 1.]]\n",
            "[2 0 1]\n",
            "[1 2 0 2]\n"
          ],
          "name": "stdout"
        }
      ]
    },
    {
      "metadata": {
        "id": "LRY3Dxmxk2er",
        "colab_type": "code",
        "colab": {
          "base_uri": "https://localhost:8080/",
          "height": 168
        },
        "outputId": "a7ffeb34-62d7-4cd9-9c7f-d1c443a8fb75"
      },
      "cell_type": "code",
      "source": [
        "import numpy as np\n",
        "import tensorflow as tf\n",
        "bs = 2\n",
        "voc = 4\n",
        "em = 3\n",
        "\n",
        "final_embeddings_np_voc_em = np.ones( (voc, em))\n",
        "np_bs_em = np.full((em, voc), 2.0 )\n",
        "\n",
        "np_bs_voc = np.zeros( shape= (bs, voc) , dtype = float )\n",
        "argmax_1 = np.argmax( (final_embeddings_np_voc_em).T @ np_bs_em[1,:])\n",
        "np_bs_voc[1, argmax_1] = 1.0\n",
        "\n",
        "print( \"final_embeddings_np_voc_em\", final_embeddings_np_voc_em)\n",
        "print( \"np_bs_em\", np_bs_em)\n",
        "print( \"np_bs_voc\", np_bs_voc)"
      ],
      "execution_count": 0,
      "outputs": [
        {
          "output_type": "stream",
          "text": [
            "final_embeddings_np_voc_em [[1. 1. 1.]\n",
            " [1. 1. 1.]\n",
            " [1. 1. 1.]\n",
            " [1. 1. 1.]]\n",
            "np_bs_em [[2. 2. 2. 2.]\n",
            " [2. 2. 2. 2.]\n",
            " [2. 2. 2. 2.]]\n",
            "np_bs_voc [[0. 0. 0. 0.]\n",
            " [1. 0. 0. 0.]]\n"
          ],
          "name": "stdout"
        }
      ]
    },
    {
      "metadata": {
        "id": "5-XBcDoq5HrB",
        "colab_type": "code",
        "colab": {
          "base_uri": "https://localhost:8080/",
          "height": 50
        },
        "outputId": "ba62c9d7-1774-4bb2-dae3-ae7893ab4941"
      },
      "cell_type": "code",
      "source": [
        "str_list = ['python', 'list', 'exchange']\n",
        "print( ','.join(str_list))\n",
        "print( \"\".join(str_list))"
      ],
      "execution_count": 0,
      "outputs": [
        {
          "output_type": "stream",
          "text": [
            "python,list,exchange\n",
            "pythonlistexchange\n"
          ],
          "name": "stdout"
        }
      ]
    },
    {
      "metadata": {
        "id": "hUswXdvf4VPE",
        "colab_type": "code",
        "colab": {
          "base_uri": "https://localhost:8080/",
          "height": 101
        },
        "outputId": "5af8bf48-658b-4921-ffd3-17d13564ae6d"
      },
      "cell_type": "code",
      "source": [
        "import numpy as np\n",
        "na = np.array([ [1,2,3], [2,4,8] ])\n",
        "print(na)\n",
        "print(np.argmax(na,axis=0)) #[[2][2][2]]\n",
        "print(np.argmax(na)) #[[2][2][2]]\n",
        "print(np.argmax(na,axis=1))#[[3],[3]\n",
        "              "
      ],
      "execution_count": 0,
      "outputs": [
        {
          "output_type": "stream",
          "text": [
            "[[1 2 3]\n",
            " [2 4 8]]\n",
            "[1 1 1]\n",
            "5\n",
            "[2 2]\n"
          ],
          "name": "stdout"
        }
      ]
    },
    {
      "metadata": {
        "id": "hVdHcIkZCagw",
        "colab_type": "code",
        "colab": {
          "base_uri": "https://localhost:8080/",
          "height": 67
        },
        "outputId": "3ebcf448-1387-47c6-8f96-f7369dea61e2"
      },
      "cell_type": "code",
      "source": [
        "import tensorflow as tf\n",
        "\n",
        "a = tf.constant(0, name='const1') #定数a\n",
        "b = tf.Variable(0, name='val1') #変数b\n",
        "\n",
        "# aとbを足す\n",
        "add = tf.add(a,b)\n",
        "#変数bに足した結果をアサイン\n",
        "assign = tf.assign(b, add)\n",
        "c = tf.placeholder(tf.int32, name='input') #入力c\n",
        "# アサインした結果とcを掛け算\n",
        "mul = tf.multiply(assign, c)\n",
        "#変数の初期化\n",
        "init = tf.global_variables_initializer()\n",
        "\n",
        "with tf.Session() as sess:\n",
        "    #初期化を実行\n",
        "    sess.run(init)\n",
        "    for i in range(3):\n",
        "        # 掛け算を計算するまでのループを実行\n",
        "        print(sess.run(mul, feed_dict={a:3, c:3}))"
      ],
      "execution_count": 0,
      "outputs": [
        {
          "output_type": "stream",
          "text": [
            "9\n",
            "18\n",
            "27\n"
          ],
          "name": "stdout"
        }
      ]
    },
    {
      "metadata": {
        "id": "Ux8axgj4rX-c",
        "colab_type": "code",
        "colab": {
          "base_uri": "https://localhost:8080/",
          "height": 84
        },
        "outputId": "0a8b141b-c359-42b3-b741-0ec54679cd99"
      },
      "cell_type": "code",
      "source": [
        "import numpy as np\n",
        "b=np.array ([[1,2]]) \n",
        "print(np.sum(b, 1)[:, None],np.sum(b, 1)[:, None].shape)\n",
        "print(np.sum(b, 1),np.sum(b, 1).shape)\n",
        "print(b/np.sum(b, 1)[:, None])\n",
        "print(b/np.sum(b, 1))\n"
      ],
      "execution_count": 0,
      "outputs": [
        {
          "output_type": "stream",
          "text": [
            "[[3]] (1, 1)\n",
            "[3] (1,)\n",
            "[[0.33333333 0.66666667]]\n",
            "[[0.33333333 0.66666667]]\n"
          ],
          "name": "stdout"
        }
      ]
    },
    {
      "metadata": {
        "id": "R6QX8QsHOkNf",
        "colab_type": "code",
        "colab": {
          "base_uri": "https://localhost:8080/",
          "height": 51
        },
        "outputId": "917475c7-9327-4c55-c390-4657bb3637ad"
      },
      "cell_type": "code",
      "source": [
        "names = ['Alice', 'Bob', 'Charlie']\n",
        "ages = (24, 50, 18)\n",
        "\n",
        "z = zip(names, ages)\n",
        "print(z)\n",
        "print(list(z))"
      ],
      "execution_count": 0,
      "outputs": [
        {
          "output_type": "stream",
          "text": [
            "<zip object at 0x7fb1c7b96cc8>\n",
            "[('Alice', 24), ('Bob', 50), ('Charlie', 18)]\n"
          ],
          "name": "stdout"
        }
      ]
    },
    {
      "metadata": {
        "id": "UtC4wiLsEuQu",
        "colab_type": "code",
        "colab": {}
      },
      "cell_type": "code",
      "source": [
        "# ＜ブロードキャスト＞\n",
        "# 形状が1 x　2　と　2 x　1の配列の演算でも、\n",
        "# ブロードキャストが適用され2 x2の配列として演算されます。\n",
        "import numpy as np\n",
        "x=np.array ([[1,2]]) \n",
        "y=np.array ([[1,1],\n",
        "              [0,1]])\n",
        "print(x.shape)\n",
        "print(y.shape)\n",
        "print(x+y)"
      ],
      "execution_count": 0,
      "outputs": []
    },
    {
      "metadata": {
        "id": "XrEwd_k1FrTJ",
        "colab_type": "code",
        "colab": {
          "base_uri": "https://localhost:8080/",
          "height": 882
        },
        "outputId": "83a5396b-5bbc-4d88-eee3-94781745bf29"
      },
      "cell_type": "code",
      "source": [
        "import numpy as np\n",
        "\n",
        "print(np.array([1,2]).shape) #2,  普通の1次元ベクトル表現\n",
        "print(np.array([[1,2]]).shape) #1,2　横ベクトル\n",
        "print(np.array([[1,2]]).T.shape) #2,1　縦ベクトル\n",
        "print(np.array([[1],[2]]).shape) #2,1　縦ベクトル\n",
        "print()\n",
        "print(np.array([[1,2,3],[1,2,3]]).shape) #2,3\n",
        "print(np.array([[1,2,3],[1,2,3]]).T.shape) #3,2\n",
        "print( np.array([ [1,2,3], [1,2,3] ]) @ np.array([[1],[2],[3]])  ) # OK\n",
        "#print(np.matmul( [ [1,2,3], [1,2,3] ] , [[1,2,3]] ) ) # error\n",
        "print(np.matmul( [ [1,2,3], [1,2,3] ] , [1,2,3] ) ) #\n",
        "print(np.array( [ [1,2,3], [1,2,3] ] ) @ np.array( [1,2,3] ) ) #\n",
        "# NumPyではベクトルを1 次元配列と2 次元配列のどちらでも表せます。\n",
        "# 2 次元配列で表 すなら、n 次の行ベクトル（横ベクトル) は1 x　2 次元配列、\n",
        "# 縦ベクト ル) は1　x 2 次元配列とします。\n",
        "# 1 次元配列では行ベクトルと列ベクトルを明確に区別はできません。\n",
        "\n",
        "# @演算子やdot 関数を使う際には一つ注意点があります。これらは二つの配列の次元が異 \n",
        "# なる場合でも演算ができてしまいます2 次元配列と1 次元配列との演算では。例えば、\n",
        "# 内部で1次元配列を2 次元配列（列ベクトル) に拡大して計算し、結果は1次元配列に戻して返す\n",
        "print()\n",
        "print(np.array([[[1,2,3],[4,5,6]],[[7,8,9],[11,12,13]]]).shape) #2,2,3\n",
        "print(np.array([[[1,2,3],[4,5,6]],[[7,8,9],[11,12,13]]])) \n",
        "print()\n",
        "\n",
        "print(np.array([[[1,2,3],[4,5,6]]]).shape) #1,2,3\n",
        "print(np.array([[[1,2,3],[4,5,6]],[[7,8,9],[11,12,13]]])) \n",
        "print()\n",
        "\n",
        "print(np.array([[[1,2,3],[4,5,6]],[[7,8,9],[11,12,13]]]).T.shape) #2,2,3\n",
        "print(np.array([[[1,2,3],[4,5,6]],[[7,8,9],[11,12,13]]]).T) \n",
        "print()\n",
        "print(np.array([[[1,2,3],[1,2,3]],[[1,2,3],[1,2,3]]]).T.shape) #2,2,3\n",
        "print()\n",
        "print(np.arange(6).reshape((-1))) #=> array([[0, 1, 2, 3, 4, 5]])\n",
        "print(np.arange(6).reshape((1, -1))) #=> array([[0, 1, 2, 3, 4, 5]])\n",
        "print(np.arange(6).reshape((-1, 1))) #=> array([[0],[1],[2],[3],[4],[5]])\n",
        "print(np.arange(6).reshape((2, -1))) #=> array([[0, 1, 2],[3, 4, 5]])"
      ],
      "execution_count": 0,
      "outputs": [
        {
          "output_type": "stream",
          "text": [
            "(2,)\n",
            "(1, 2)\n",
            "(2, 1)\n",
            "(2, 1)\n",
            "\n",
            "(2, 3)\n",
            "(3, 2)\n",
            "[[14]\n",
            " [14]]\n",
            "[14 14]\n",
            "[14 14]\n",
            "\n",
            "(2, 2, 3)\n",
            "[[[ 1  2  3]\n",
            "  [ 4  5  6]]\n",
            "\n",
            " [[ 7  8  9]\n",
            "  [11 12 13]]]\n",
            "\n",
            "(1, 2, 3)\n",
            "[[[ 1  2  3]\n",
            "  [ 4  5  6]]\n",
            "\n",
            " [[ 7  8  9]\n",
            "  [11 12 13]]]\n",
            "\n",
            "(3, 2, 2)\n",
            "[[[ 1  7]\n",
            "  [ 4 11]]\n",
            "\n",
            " [[ 2  8]\n",
            "  [ 5 12]]\n",
            "\n",
            " [[ 3  9]\n",
            "  [ 6 13]]]\n",
            "\n",
            "(3, 2, 2)\n",
            "\n",
            "[0 1 2 3 4 5]\n",
            "[[0 1 2 3 4 5]]\n",
            "[[0]\n",
            " [1]\n",
            " [2]\n",
            " [3]\n",
            " [4]\n",
            " [5]]\n",
            "[[0 1 2]\n",
            " [3 4 5]]\n"
          ],
          "name": "stdout"
        }
      ]
    }
  ]
}